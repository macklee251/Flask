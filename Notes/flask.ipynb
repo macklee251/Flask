{
 "cells": [
  {
   "cell_type": "markdown",
   "metadata": {},
   "source": [
    "Para que possamos entender o flask precisamos entender o protocolo HTTP (Protocolo de transferência de hipertext). No caso de aplicações web precisamos entender o cliente como browser, como o usuário que está requisitando a informação, e o servidor como sendo a máquina que está rodando a nossa aplicação web. Além disso é interesente mensionar que a e URL (uniform resourse locator - localização uniforme de um recurso) é o que engloba o protocolo o host, uma porta TCP e a rota."
   ]
  },
  {
   "cell_type": "markdown",
   "metadata": {},
   "source": [
    "O <span style=\"color:rgb(64, 224, 208)\">Flask</span> é um framework que serve para processar e enviar informações do back-end para o front-end. Com ele conseguimos pegar as requisições do navegador, manipular essas informações usando o python e depois  devolver a resposta ao cliente."
   ]
  },
  {
   "cell_type": "markdown",
   "metadata": {},
   "source": [
    "Para iniciar o projeto, começamos criando um ambiente isolado com o comando python -m venv venv. Aqui o python -m está indicando que estamos chamando um módulo específico que no caso é o venv. Para ativar esse ambiente usamos o source ven/bin/activate"
   ]
  },
  {
   "cell_type": "markdown",
   "metadata": {},
   "source": [
    "Dentro do python temos principalmente dois frameworks principais para web o <span style=\"color:rgb(64, 224, 208)\">Django</span> e o <span style=\"color:rgb(64, 224, 208)\">Flask</span>. O Django é um framework fullstack, ele te entrega tudo dentro de um único pacote e assim conseguimos fazer tudo dentro da aplicação com aquelas regras pré-definidas, já o Flask, ele é um microfremwork, ou seja, ele te entrega só a base necessária para se construir a aplicação."
   ]
  },
  {
   "cell_type": "markdown",
   "metadata": {},
   "source": [
    "<h3>Cada celula desse notebook representará um módulo/arquivo em uma arquitetura  limpa flask.</h3>"
   ]
  },
  {
   "cell_type": "code",
   "execution_count": null,
   "metadata": {},
   "outputs": [],
   "source": [
    "from flask import Flask\n",
    "host = \"localhost\"\n",
    "port = 8080\n",
    "\n",
    "app = Flask(__name__)\n",
    "\n",
    "# Ao invés de criar arquivos HTML que seriam enviados ao navegador, criaremos aquilo que chamamos de views, \n",
    "# que são funções que retornam strings que serão exibidas no navegador.\n",
    "@app.route('/')\n",
    "def hello():\n",
    "    return \"Hello World!\" \n",
    "\n",
    "app.run(host=host, port=port)\n",
    " "
   ]
  }
 ],
 "metadata": {
  "language_info": {
   "name": "python"
  }
 },
 "nbformat": 4,
 "nbformat_minor": 2
}
